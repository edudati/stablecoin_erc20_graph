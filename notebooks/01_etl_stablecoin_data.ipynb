{
 "cells": [
  {
   "cell_type": "markdown",
   "id": "95e6757d",
   "metadata": {},
   "source": [
    "### Important:\n",
    "The data used in this exercise has already been cleaned. However, I included this notebook with a basic data cleaning step, as the process may vary depending on the context. For example, if the token is a stablecoin, it might be necessary to remove very small or very large values. Zero-value transactions could be relevant for identifying network activity, or they might indicate failed transactions or contract issues. Repeated values in short time spans may suggest arbitrage or testing behaviour. Therefore, the cleaning strategy should be adapted to the analysis goal."
   ]
  },
  {
   "cell_type": "code",
   "execution_count": 8,
   "id": "a6e5625b",
   "metadata": {},
   "outputs": [
    {
     "name": "stdout",
     "output_type": "stream",
     "text": [
      "<class 'pandas.core.frame.DataFrame'>\n",
      "RangeIndex: 5280131 entries, 0 to 5280130\n",
      "Data columns (total 7 columns):\n",
      " #   Column             Dtype  \n",
      "---  ------             -----  \n",
      " 0   block_number       int64  \n",
      " 1   transaction_index  int64  \n",
      " 2   from_address       object \n",
      " 3   to_address         object \n",
      " 4   time_stamp         int64  \n",
      " 5   contract_address   object \n",
      " 6   value              float64\n",
      "dtypes: float64(1), int64(3), object(3)\n",
      "memory usage: 282.0+ MB\n"
     ]
    },
    {
     "data": {
      "application/vnd.microsoft.datawrangler.viewer.v0+json": {
       "columns": [
        {
         "name": "index",
         "rawType": "int64",
         "type": "integer"
        },
        {
         "name": "block_number",
         "rawType": "int64",
         "type": "integer"
        },
        {
         "name": "transaction_index",
         "rawType": "int64",
         "type": "integer"
        },
        {
         "name": "from_address",
         "rawType": "object",
         "type": "string"
        },
        {
         "name": "to_address",
         "rawType": "object",
         "type": "string"
        },
        {
         "name": "time_stamp",
         "rawType": "int64",
         "type": "integer"
        },
        {
         "name": "contract_address",
         "rawType": "object",
         "type": "string"
        },
        {
         "name": "value",
         "rawType": "float64",
         "type": "float"
        }
       ],
       "ref": "affadef8-a8c4-4ab3-8668-0224c28c3de9",
       "rows": [
        [
         "0",
         "14669683",
         "7",
         "0xd30b438df65f4f788563b2b3611bd6059bff4ad9",
         "0xda816e2122a8a39b0926bfa84edd3d42477e9efd",
         "1651105815",
         "0xdac17f958d2ee523a2206206994597c13d831ec7",
         "18.67"
        ],
        [
         "1",
         "14669683",
         "45",
         "0x4941834ed1428089ee76252f6f9d767e800499b0",
         "0x28c6c06298d514db089934071355e5743bf21d60",
         "1651105815",
         "0xdac17f958d2ee523a2206206994597c13d831ec7",
         "10000.0"
        ],
        [
         "2",
         "14669683",
         "46",
         "0x2c1f9a20711e14f8484a41123e20d1b06858ebea",
         "0x28c6c06298d514db089934071355e5743bf21d60",
         "1651105815",
         "0xdac17f958d2ee523a2206206994597c13d831ec7",
         "9942.313005"
        ],
        [
         "3",
         "14669683",
         "47",
         "0x7784c4f53aa5f03bd6d3ca670c9d9c887cc38cb0",
         "0x3cd751e6b0078be393132286c442345e5dc49699",
         "1651105815",
         "0xdac17f958d2ee523a2206206994597c13d831ec7",
         "234.364097"
        ],
        [
         "4",
         "14669683",
         "48",
         "0x66589b8278470d58d4112f3d065de0f75734312e",
         "0x28c6c06298d514db089934071355e5743bf21d60",
         "1651105815",
         "0xdac17f958d2ee523a2206206994597c13d831ec7",
         "9800.0"
        ]
       ],
       "shape": {
        "columns": 7,
        "rows": 5
       }
      },
      "text/html": [
       "<div>\n",
       "<style scoped>\n",
       "    .dataframe tbody tr th:only-of-type {\n",
       "        vertical-align: middle;\n",
       "    }\n",
       "\n",
       "    .dataframe tbody tr th {\n",
       "        vertical-align: top;\n",
       "    }\n",
       "\n",
       "    .dataframe thead th {\n",
       "        text-align: right;\n",
       "    }\n",
       "</style>\n",
       "<table border=\"1\" class=\"dataframe\">\n",
       "  <thead>\n",
       "    <tr style=\"text-align: right;\">\n",
       "      <th></th>\n",
       "      <th>block_number</th>\n",
       "      <th>transaction_index</th>\n",
       "      <th>from_address</th>\n",
       "      <th>to_address</th>\n",
       "      <th>time_stamp</th>\n",
       "      <th>contract_address</th>\n",
       "      <th>value</th>\n",
       "    </tr>\n",
       "  </thead>\n",
       "  <tbody>\n",
       "    <tr>\n",
       "      <th>0</th>\n",
       "      <td>14669683</td>\n",
       "      <td>7</td>\n",
       "      <td>0xd30b438df65f4f788563b2b3611bd6059bff4ad9</td>\n",
       "      <td>0xda816e2122a8a39b0926bfa84edd3d42477e9efd</td>\n",
       "      <td>1651105815</td>\n",
       "      <td>0xdac17f958d2ee523a2206206994597c13d831ec7</td>\n",
       "      <td>18.670000</td>\n",
       "    </tr>\n",
       "    <tr>\n",
       "      <th>1</th>\n",
       "      <td>14669683</td>\n",
       "      <td>45</td>\n",
       "      <td>0x4941834ed1428089ee76252f6f9d767e800499b0</td>\n",
       "      <td>0x28c6c06298d514db089934071355e5743bf21d60</td>\n",
       "      <td>1651105815</td>\n",
       "      <td>0xdac17f958d2ee523a2206206994597c13d831ec7</td>\n",
       "      <td>10000.000000</td>\n",
       "    </tr>\n",
       "    <tr>\n",
       "      <th>2</th>\n",
       "      <td>14669683</td>\n",
       "      <td>46</td>\n",
       "      <td>0x2c1f9a20711e14f8484a41123e20d1b06858ebea</td>\n",
       "      <td>0x28c6c06298d514db089934071355e5743bf21d60</td>\n",
       "      <td>1651105815</td>\n",
       "      <td>0xdac17f958d2ee523a2206206994597c13d831ec7</td>\n",
       "      <td>9942.313005</td>\n",
       "    </tr>\n",
       "    <tr>\n",
       "      <th>3</th>\n",
       "      <td>14669683</td>\n",
       "      <td>47</td>\n",
       "      <td>0x7784c4f53aa5f03bd6d3ca670c9d9c887cc38cb0</td>\n",
       "      <td>0x3cd751e6b0078be393132286c442345e5dc49699</td>\n",
       "      <td>1651105815</td>\n",
       "      <td>0xdac17f958d2ee523a2206206994597c13d831ec7</td>\n",
       "      <td>234.364097</td>\n",
       "    </tr>\n",
       "    <tr>\n",
       "      <th>4</th>\n",
       "      <td>14669683</td>\n",
       "      <td>48</td>\n",
       "      <td>0x66589b8278470d58d4112f3d065de0f75734312e</td>\n",
       "      <td>0x28c6c06298d514db089934071355e5743bf21d60</td>\n",
       "      <td>1651105815</td>\n",
       "      <td>0xdac17f958d2ee523a2206206994597c13d831ec7</td>\n",
       "      <td>9800.000000</td>\n",
       "    </tr>\n",
       "  </tbody>\n",
       "</table>\n",
       "</div>"
      ],
      "text/plain": [
       "   block_number  transaction_index  \\\n",
       "0      14669683                  7   \n",
       "1      14669683                 45   \n",
       "2      14669683                 46   \n",
       "3      14669683                 47   \n",
       "4      14669683                 48   \n",
       "\n",
       "                                 from_address  \\\n",
       "0  0xd30b438df65f4f788563b2b3611bd6059bff4ad9   \n",
       "1  0x4941834ed1428089ee76252f6f9d767e800499b0   \n",
       "2  0x2c1f9a20711e14f8484a41123e20d1b06858ebea   \n",
       "3  0x7784c4f53aa5f03bd6d3ca670c9d9c887cc38cb0   \n",
       "4  0x66589b8278470d58d4112f3d065de0f75734312e   \n",
       "\n",
       "                                   to_address  time_stamp  \\\n",
       "0  0xda816e2122a8a39b0926bfa84edd3d42477e9efd  1651105815   \n",
       "1  0x28c6c06298d514db089934071355e5743bf21d60  1651105815   \n",
       "2  0x28c6c06298d514db089934071355e5743bf21d60  1651105815   \n",
       "3  0x3cd751e6b0078be393132286c442345e5dc49699  1651105815   \n",
       "4  0x28c6c06298d514db089934071355e5743bf21d60  1651105815   \n",
       "\n",
       "                             contract_address         value  \n",
       "0  0xdac17f958d2ee523a2206206994597c13d831ec7     18.670000  \n",
       "1  0xdac17f958d2ee523a2206206994597c13d831ec7  10000.000000  \n",
       "2  0xdac17f958d2ee523a2206206994597c13d831ec7   9942.313005  \n",
       "3  0xdac17f958d2ee523a2206206994597c13d831ec7    234.364097  \n",
       "4  0xdac17f958d2ee523a2206206994597c13d831ec7   9800.000000  "
      ]
     },
     "execution_count": 8,
     "metadata": {},
     "output_type": "execute_result"
    }
   ],
   "source": [
    "import pandas as pd\n",
    "import numpy as np\n",
    "import os\n",
    "\n",
    "df = pd.read_csv('../data/token_transfers.csv')\n",
    "\n",
    "input_file = '../data/token_transfers.csv'\n",
    "\n",
    "output_filename = 'token_transfers_cleaned.csv'\n",
    "output_path = '../data/cleaned'\n",
    "os.makedirs(output_path, exist_ok=True)\n",
    "\n",
    "df.info()\n",
    "df.head()"
   ]
  },
  {
   "cell_type": "code",
   "execution_count": 9,
   "id": "800b0b5a",
   "metadata": {},
   "outputs": [
    {
     "name": "stdout",
     "output_type": "stream",
     "text": [
      "Total original: 5280131\n",
      "Valids: 5280131\n",
      "Excludeds: 0\n",
      "Tax of validation: 100.00%\n"
     ]
    },
    {
     "data": {
      "application/vnd.microsoft.datawrangler.viewer.v0+json": {
       "columns": [
        {
         "name": "index",
         "rawType": "int64",
         "type": "integer"
        },
        {
         "name": "block_number",
         "rawType": "int64",
         "type": "integer"
        },
        {
         "name": "transaction_index",
         "rawType": "int64",
         "type": "integer"
        },
        {
         "name": "from_address",
         "rawType": "object",
         "type": "string"
        },
        {
         "name": "to_address",
         "rawType": "object",
         "type": "string"
        },
        {
         "name": "time_stamp",
         "rawType": "int64",
         "type": "integer"
        },
        {
         "name": "contract_address",
         "rawType": "object",
         "type": "string"
        },
        {
         "name": "value",
         "rawType": "float64",
         "type": "float"
        }
       ],
       "ref": "4ab92555-8b3a-4cef-86ee-22da63796e28",
       "rows": [],
       "shape": {
        "columns": 7,
        "rows": 0
       }
      },
      "text/html": [
       "<div>\n",
       "<style scoped>\n",
       "    .dataframe tbody tr th:only-of-type {\n",
       "        vertical-align: middle;\n",
       "    }\n",
       "\n",
       "    .dataframe tbody tr th {\n",
       "        vertical-align: top;\n",
       "    }\n",
       "\n",
       "    .dataframe thead th {\n",
       "        text-align: right;\n",
       "    }\n",
       "</style>\n",
       "<table border=\"1\" class=\"dataframe\">\n",
       "  <thead>\n",
       "    <tr style=\"text-align: right;\">\n",
       "      <th></th>\n",
       "      <th>block_number</th>\n",
       "      <th>transaction_index</th>\n",
       "      <th>from_address</th>\n",
       "      <th>to_address</th>\n",
       "      <th>time_stamp</th>\n",
       "      <th>contract_address</th>\n",
       "      <th>value</th>\n",
       "    </tr>\n",
       "  </thead>\n",
       "  <tbody>\n",
       "  </tbody>\n",
       "</table>\n",
       "</div>"
      ],
      "text/plain": [
       "Empty DataFrame\n",
       "Columns: [block_number, transaction_index, from_address, to_address, time_stamp, contract_address, value]\n",
       "Index: []"
      ]
     },
     "execution_count": 9,
     "metadata": {},
     "output_type": "execute_result"
    }
   ],
   "source": [
    "import re\n",
    "\n",
    "df_excluded = pd.DataFrame()\n",
    "\n",
    "# standardizations (valid with etherium)\n",
    "df['from_address'] = df['from_address'].str.lower()\n",
    "df['to_address'] = df['to_address'].str.lower()\n",
    "df['contract_address'] = df['contract_address'].str.lower()\n",
    "\n",
    "def is_valid_eth_address(addr):\n",
    "    return isinstance(addr, str) and re.fullmatch(r\"0x[a-f0-9]{40}\", addr) is not None\n",
    "\n",
    "# Remove lines with missing data in essential columns\n",
    "essential_cols = ['block_number', 'transaction_index', 'from_address', 'to_address', 'time_stamp', 'contract_address', 'value']\n",
    "missing_rows = df[df[essential_cols].isnull().any(axis=1)]\n",
    "df_excluded = pd.concat([df_excluded, missing_rows])\n",
    "df = df.drop(missing_rows.index.tolist())\n",
    "\n",
    "# Remove trasactions with value < 0\n",
    "zero_value_rows = df[df['value'] < 0.0]\n",
    "df_excluded = pd.concat([df_excluded, zero_value_rows])\n",
    "df = df.drop(zero_value_rows.index.tolist())\n",
    "\n",
    "# Remove invalid address\n",
    "invalid_from = df[~df['from_address'].apply(is_valid_eth_address)]\n",
    "invalid_to = df[~df['to_address'].apply(is_valid_eth_address)]\n",
    "invalid_contract = df[~df['contract_address'].apply(is_valid_eth_address)]\n",
    "invalid_rows = pd.concat([invalid_from, invalid_to, invalid_contract]).drop_duplicates()\n",
    "df_excluded = pd.concat([df_excluded, invalid_rows])\n",
    "df = df.drop(invalid_rows.index.tolist())\n",
    "\n",
    "# Convert timestamp to datetime\n",
    "df.rename(columns={'time_stamp': 'timestamp'}, inplace=True)\n",
    "df['timestamp'] = df['timestamp'].astype(int)  # keep original\n",
    "df['datetime'] = pd.to_datetime(df['timestamp'], unit='s')\n",
    "df['date'] = df['datetime'].dt.date\n",
    "\n",
    "# Summary\n",
    "print(f\"Total original: {len(df) + len(df_excluded)}\")\n",
    "print(f\"Valids: {len(df)}\")\n",
    "print(f\"Excludeds: {len(df_excluded)}\")\n",
    "print(f\"Tax of validation: {(len(df) / (len(df) + len(df_excluded)) * 100):.2f}%\")\n",
    "df_excluded.head()"
   ]
  },
  {
   "cell_type": "code",
   "execution_count": 11,
   "id": "29c1f575",
   "metadata": {},
   "outputs": [
    {
     "name": "stdout",
     "output_type": "stream",
     "text": [
      "Descriptive:\n",
      "count    5.279677e+06\n",
      "mean     4.089588e+05\n",
      "std      9.681637e+06\n",
      "min      0.000000e+00\n",
      "25%      3.871390e+02\n",
      "50%      2.137060e+03\n",
      "75%      1.717948e+04\n",
      "max      1.000000e+09\n",
      "Name: value, dtype: float64\n",
      "\n",
      "Perccentiles: 0.001    3.000000e-06\n",
      "0.010    1.787850e+00\n",
      "0.050    3.000000e+01\n",
      "0.950    4.281914e+05\n",
      "0.990    4.408496e+06\n",
      "0.999    6.498208e+07\n",
      "Name: value, dtype: float64\n",
      "\n",
      "Extreme values (>= 1e15): 0\n",
      "\n",
      "Analisys per contract:\n",
      "0xdac17f95...: min=0.0000, max=880271921.1312\n",
      "0xa0b86991...: min=0.0000, max=555098591.9100\n",
      "0x6b175474...: min=0.0000, max=493186350.9474\n",
      "0xd2877702...: min=0.0000, max=999999999.0000\n",
      "0xa47c8bf3...: min=0.0000, max=185562507.5551\n",
      "\n",
      "Highest outliers (> 423175115.25): 528\n",
      "Lowest outliers (< 0.00): 0\n",
      "\n",
      "After outliers removal: 5279149 valid transactions\n"
     ]
    }
   ],
   "source": [
    "# Basic descriptive statistics\n",
    "print(\"Descriptive:\")\n",
    "print(df['value'].describe())\n",
    "print(f\"\\nPerccentiles: {df['value'].quantile([0.001, 0.01, 0.05, 0.95, 0.99, 0.999])}\")\n",
    "\n",
    "# Identify imposible values\n",
    "test_values = df[df['value'] >= 1e15]\n",
    "print(f\"\\nExtreme values (>= 1e15): {len(test_values)}\")\n",
    "\n",
    "# Analisys per contract\n",
    "print(\"\\nAnalisys per contract:\")\n",
    "for contract in df['contract_address'].value_counts().head(5).index:\n",
    "    contract_data = df[df['contract_address'] == contract]\n",
    "    print(f\"{str(contract)[:10]}...: min={contract_data['value'].min():.4f}, max={contract_data['value'].max():.4f}\")\n",
    "\n",
    "# Remove outliers\n",
    "q_high = df['value'].quantile(0.9999) # 99.99%\n",
    "q_low = df['value'].quantile(0.0001) # 0.01%\n",
    "\n",
    "outlier_high = df[df['value'] > q_high]\n",
    "outlier_low = df[df['value'] < q_low]\n",
    "\n",
    "print(f\"\\nHighest outliers (> {q_high:.2f}): {len(outlier_high)}\")\n",
    "print(f\"Lowest outliers (< {q_low:.2f}): {len(outlier_low)}\")\n",
    "\n",
    "# Remove and update tracking\n",
    "df_excluded = pd.concat([df_excluded, outlier_high, outlier_low])\n",
    "df = df[(df['value'] >= q_low) & (df['value'] <= q_high)]\n",
    "\n",
    "print(f\"\\nAfter outliers removal: {len(df)} valid transactions\")"
   ]
  },
  {
   "cell_type": "markdown",
   "id": "647fb913",
   "metadata": {},
   "source": [
    "Direct links for mapping\n",
    "\n",
    "USDT (Tether)\n",
    "https://etherscan.io/token/0xdac17f958d2ee523a2206206994597c13d831ec7\n",
    "\n",
    "USDC (USD Coin)\n",
    "https://etherscan.io/token/0xa0b86991c6218b36c1d19d4a2e9eb0ce3606eb48\n",
    "\n",
    "DAI (Multi-Collateral DAI)\n",
    "https://etherscan.io/token/0x6b175474e89094c44da98b954eedeac495271d0f\n",
    "\n",
    "UST (TerraClassicUSD)\n",
    "https://etherscan.io/token/0xa47c8bf37f92abed4a126bda807a7b7498661acd\n",
    "\n",
    "PAX (Pax Dollar)\n",
    "https://etherscan.io/token/0x8e870d67f660d95d5be530380d0ec0bd388289e1\n",
    "\n",
    "WLUNA (Wrapped LUNA Classic)\n",
    "https://etherscan.io/token/0xd2877702675e6ceb975b4a1dff9fb7baf4c91ea9"
   ]
  },
  {
   "cell_type": "code",
   "execution_count": 14,
   "id": "70bd1643",
   "metadata": {},
   "outputs": [
    {
     "name": "stdout",
     "output_type": "stream",
     "text": [
      "Contract Addresses: ['0xdac17f958d2ee523a2206206994597c13d831ec7'\n",
      " '0xa0b86991c6218b36c1d19d4a2e9eb0ce3606eb48'\n",
      " '0xa47c8bf37f92abed4a126bda807a7b7498661acd'\n",
      " '0x6b175474e89094c44da98b954eedeac495271d0f'\n",
      " '0x8e870d67f660d95d5be530380d0ec0bd388289e1'\n",
      " '0xd2877702675e6ceb975b4a1dff9fb7baf4c91ea9']\n",
      "\n",
      "Stablecoin: ['USDT' 'USDC' 'UST' 'DAI' 'PAX' 'WLUNA']\n"
     ]
    },
    {
     "ename": "OSError",
     "evalue": "[Errno 28] No space left on device",
     "output_type": "error",
     "traceback": [
      "\u001b[1;31m---------------------------------------------------------------------------\u001b[0m",
      "\u001b[1;31mOSError\u001b[0m                                   Traceback (most recent call last)",
      "File \u001b[1;32mc:\\Projects\\graph\\stablecoin_erc20_graph\\.venv\\lib\\site-packages\\pandas\\io\\formats\\csvs.py:270\u001b[0m, in \u001b[0;36mCSVFormatter.save\u001b[1;34m(self)\u001b[0m\n\u001b[0;32m    260\u001b[0m \u001b[38;5;28mself\u001b[39m\u001b[38;5;241m.\u001b[39mwriter \u001b[38;5;241m=\u001b[39m csvlib\u001b[38;5;241m.\u001b[39mwriter(\n\u001b[0;32m    261\u001b[0m     handles\u001b[38;5;241m.\u001b[39mhandle,\n\u001b[0;32m    262\u001b[0m     lineterminator\u001b[38;5;241m=\u001b[39m\u001b[38;5;28mself\u001b[39m\u001b[38;5;241m.\u001b[39mlineterminator,\n\u001b[1;32m   (...)\u001b[0m\n\u001b[0;32m    267\u001b[0m     quotechar\u001b[38;5;241m=\u001b[39m\u001b[38;5;28mself\u001b[39m\u001b[38;5;241m.\u001b[39mquotechar,\n\u001b[0;32m    268\u001b[0m )\n\u001b[1;32m--> 270\u001b[0m \u001b[38;5;28;43mself\u001b[39;49m\u001b[38;5;241;43m.\u001b[39;49m\u001b[43m_save\u001b[49m\u001b[43m(\u001b[49m\u001b[43m)\u001b[49m\n",
      "File \u001b[1;32mc:\\Projects\\graph\\stablecoin_erc20_graph\\.venv\\lib\\site-packages\\pandas\\io\\formats\\csvs.py:275\u001b[0m, in \u001b[0;36mCSVFormatter._save\u001b[1;34m(self)\u001b[0m\n\u001b[0;32m    274\u001b[0m     \u001b[38;5;28mself\u001b[39m\u001b[38;5;241m.\u001b[39m_save_header()\n\u001b[1;32m--> 275\u001b[0m \u001b[38;5;28;43mself\u001b[39;49m\u001b[38;5;241;43m.\u001b[39;49m\u001b[43m_save_body\u001b[49m\u001b[43m(\u001b[49m\u001b[43m)\u001b[49m\n",
      "File \u001b[1;32mc:\\Projects\\graph\\stablecoin_erc20_graph\\.venv\\lib\\site-packages\\pandas\\io\\formats\\csvs.py:313\u001b[0m, in \u001b[0;36mCSVFormatter._save_body\u001b[1;34m(self)\u001b[0m\n\u001b[0;32m    312\u001b[0m     \u001b[38;5;28;01mbreak\u001b[39;00m\n\u001b[1;32m--> 313\u001b[0m \u001b[38;5;28;43mself\u001b[39;49m\u001b[38;5;241;43m.\u001b[39;49m\u001b[43m_save_chunk\u001b[49m\u001b[43m(\u001b[49m\u001b[43mstart_i\u001b[49m\u001b[43m,\u001b[49m\u001b[43m \u001b[49m\u001b[43mend_i\u001b[49m\u001b[43m)\u001b[49m\n",
      "File \u001b[1;32mc:\\Projects\\graph\\stablecoin_erc20_graph\\.venv\\lib\\site-packages\\pandas\\io\\formats\\csvs.py:324\u001b[0m, in \u001b[0;36mCSVFormatter._save_chunk\u001b[1;34m(self, start_i, end_i)\u001b[0m\n\u001b[0;32m    323\u001b[0m ix \u001b[38;5;241m=\u001b[39m \u001b[38;5;28mself\u001b[39m\u001b[38;5;241m.\u001b[39mdata_index[slicer]\u001b[38;5;241m.\u001b[39m_get_values_for_csv(\u001b[38;5;241m*\u001b[39m\u001b[38;5;241m*\u001b[39m\u001b[38;5;28mself\u001b[39m\u001b[38;5;241m.\u001b[39m_number_format)\n\u001b[1;32m--> 324\u001b[0m \u001b[43mlibwriters\u001b[49m\u001b[38;5;241;43m.\u001b[39;49m\u001b[43mwrite_csv_rows\u001b[49m\u001b[43m(\u001b[49m\n\u001b[0;32m    325\u001b[0m \u001b[43m    \u001b[49m\u001b[43mdata\u001b[49m\u001b[43m,\u001b[49m\n\u001b[0;32m    326\u001b[0m \u001b[43m    \u001b[49m\u001b[43mix\u001b[49m\u001b[43m,\u001b[49m\n\u001b[0;32m    327\u001b[0m \u001b[43m    \u001b[49m\u001b[38;5;28;43mself\u001b[39;49m\u001b[38;5;241;43m.\u001b[39;49m\u001b[43mnlevels\u001b[49m\u001b[43m,\u001b[49m\n\u001b[0;32m    328\u001b[0m \u001b[43m    \u001b[49m\u001b[38;5;28;43mself\u001b[39;49m\u001b[38;5;241;43m.\u001b[39;49m\u001b[43mcols\u001b[49m\u001b[43m,\u001b[49m\n\u001b[0;32m    329\u001b[0m \u001b[43m    \u001b[49m\u001b[38;5;28;43mself\u001b[39;49m\u001b[38;5;241;43m.\u001b[39;49m\u001b[43mwriter\u001b[49m\u001b[43m,\u001b[49m\n\u001b[0;32m    330\u001b[0m \u001b[43m\u001b[49m\u001b[43m)\u001b[49m\n",
      "File \u001b[1;32mpandas/_libs/writers.pyx:56\u001b[0m, in \u001b[0;36mpandas._libs.writers.write_csv_rows\u001b[1;34m()\u001b[0m\n",
      "\u001b[1;31mOSError\u001b[0m: [Errno 28] No space left on device",
      "\nDuring handling of the above exception, another exception occurred:\n",
      "\u001b[1;31mOSError\u001b[0m                                   Traceback (most recent call last)",
      "\u001b[1;31mOSError\u001b[0m: [Errno 28] No space left on device",
      "\nDuring handling of the above exception, another exception occurred:\n",
      "\u001b[1;31mOSError\u001b[0m                                   Traceback (most recent call last)",
      "Cell \u001b[1;32mIn[14], line 19\u001b[0m\n\u001b[0;32m     15\u001b[0m \u001b[38;5;28mprint\u001b[39m(\u001b[38;5;124mf\u001b[39m\u001b[38;5;124m\"\u001b[39m\u001b[38;5;124mContract Addresses: \u001b[39m\u001b[38;5;132;01m{\u001b[39;00mdf[\u001b[38;5;124m'\u001b[39m\u001b[38;5;124mcontract_address\u001b[39m\u001b[38;5;124m'\u001b[39m]\u001b[38;5;241m.\u001b[39munique()\u001b[38;5;132;01m}\u001b[39;00m\u001b[38;5;124m\"\u001b[39m)\n\u001b[0;32m     16\u001b[0m \u001b[38;5;28mprint\u001b[39m(\u001b[38;5;124mf\u001b[39m\u001b[38;5;124m\"\u001b[39m\u001b[38;5;130;01m\\n\u001b[39;00m\u001b[38;5;124mStablecoin: \u001b[39m\u001b[38;5;132;01m{\u001b[39;00mdf[\u001b[38;5;124m'\u001b[39m\u001b[38;5;124mstablecoin\u001b[39m\u001b[38;5;124m'\u001b[39m]\u001b[38;5;241m.\u001b[39munique()\u001b[38;5;132;01m}\u001b[39;00m\u001b[38;5;124m\"\u001b[39m)\n\u001b[1;32m---> 19\u001b[0m \u001b[43mdf\u001b[49m\u001b[38;5;241;43m.\u001b[39;49m\u001b[43mto_csv\u001b[49m\u001b[43m(\u001b[49m\u001b[38;5;124;43mf\u001b[39;49m\u001b[38;5;124;43m'\u001b[39;49m\u001b[38;5;132;43;01m{\u001b[39;49;00m\u001b[43moutput_path\u001b[49m\u001b[38;5;132;43;01m}\u001b[39;49;00m\u001b[38;5;124;43m/\u001b[39;49m\u001b[38;5;132;43;01m{\u001b[39;49;00m\u001b[43moutput_filename\u001b[49m\u001b[38;5;132;43;01m}\u001b[39;49;00m\u001b[38;5;124;43m'\u001b[39;49m\u001b[43m)\u001b[49m\n",
      "File \u001b[1;32mc:\\Projects\\graph\\stablecoin_erc20_graph\\.venv\\lib\\site-packages\\pandas\\util\\_decorators.py:333\u001b[0m, in \u001b[0;36mdeprecate_nonkeyword_arguments.<locals>.decorate.<locals>.wrapper\u001b[1;34m(*args, **kwargs)\u001b[0m\n\u001b[0;32m    327\u001b[0m \u001b[38;5;28;01mif\u001b[39;00m \u001b[38;5;28mlen\u001b[39m(args) \u001b[38;5;241m>\u001b[39m num_allow_args:\n\u001b[0;32m    328\u001b[0m     warnings\u001b[38;5;241m.\u001b[39mwarn(\n\u001b[0;32m    329\u001b[0m         msg\u001b[38;5;241m.\u001b[39mformat(arguments\u001b[38;5;241m=\u001b[39m_format_argument_list(allow_args)),\n\u001b[0;32m    330\u001b[0m         \u001b[38;5;167;01mFutureWarning\u001b[39;00m,\n\u001b[0;32m    331\u001b[0m         stacklevel\u001b[38;5;241m=\u001b[39mfind_stack_level(),\n\u001b[0;32m    332\u001b[0m     )\n\u001b[1;32m--> 333\u001b[0m \u001b[38;5;28;01mreturn\u001b[39;00m func(\u001b[38;5;241m*\u001b[39margs, \u001b[38;5;241m*\u001b[39m\u001b[38;5;241m*\u001b[39mkwargs)\n",
      "File \u001b[1;32mc:\\Projects\\graph\\stablecoin_erc20_graph\\.venv\\lib\\site-packages\\pandas\\core\\generic.py:3986\u001b[0m, in \u001b[0;36mNDFrame.to_csv\u001b[1;34m(self, path_or_buf, sep, na_rep, float_format, columns, header, index, index_label, mode, encoding, compression, quoting, quotechar, lineterminator, chunksize, date_format, doublequote, escapechar, decimal, errors, storage_options)\u001b[0m\n\u001b[0;32m   3975\u001b[0m df \u001b[38;5;241m=\u001b[39m \u001b[38;5;28mself\u001b[39m \u001b[38;5;28;01mif\u001b[39;00m \u001b[38;5;28misinstance\u001b[39m(\u001b[38;5;28mself\u001b[39m, ABCDataFrame) \u001b[38;5;28;01melse\u001b[39;00m \u001b[38;5;28mself\u001b[39m\u001b[38;5;241m.\u001b[39mto_frame()\n\u001b[0;32m   3977\u001b[0m formatter \u001b[38;5;241m=\u001b[39m DataFrameFormatter(\n\u001b[0;32m   3978\u001b[0m     frame\u001b[38;5;241m=\u001b[39mdf,\n\u001b[0;32m   3979\u001b[0m     header\u001b[38;5;241m=\u001b[39mheader,\n\u001b[1;32m   (...)\u001b[0m\n\u001b[0;32m   3983\u001b[0m     decimal\u001b[38;5;241m=\u001b[39mdecimal,\n\u001b[0;32m   3984\u001b[0m )\n\u001b[1;32m-> 3986\u001b[0m \u001b[38;5;28;01mreturn\u001b[39;00m \u001b[43mDataFrameRenderer\u001b[49m\u001b[43m(\u001b[49m\u001b[43mformatter\u001b[49m\u001b[43m)\u001b[49m\u001b[38;5;241;43m.\u001b[39;49m\u001b[43mto_csv\u001b[49m\u001b[43m(\u001b[49m\n\u001b[0;32m   3987\u001b[0m \u001b[43m    \u001b[49m\u001b[43mpath_or_buf\u001b[49m\u001b[43m,\u001b[49m\n\u001b[0;32m   3988\u001b[0m \u001b[43m    \u001b[49m\u001b[43mlineterminator\u001b[49m\u001b[38;5;241;43m=\u001b[39;49m\u001b[43mlineterminator\u001b[49m\u001b[43m,\u001b[49m\n\u001b[0;32m   3989\u001b[0m \u001b[43m    \u001b[49m\u001b[43msep\u001b[49m\u001b[38;5;241;43m=\u001b[39;49m\u001b[43msep\u001b[49m\u001b[43m,\u001b[49m\n\u001b[0;32m   3990\u001b[0m \u001b[43m    \u001b[49m\u001b[43mencoding\u001b[49m\u001b[38;5;241;43m=\u001b[39;49m\u001b[43mencoding\u001b[49m\u001b[43m,\u001b[49m\n\u001b[0;32m   3991\u001b[0m \u001b[43m    \u001b[49m\u001b[43merrors\u001b[49m\u001b[38;5;241;43m=\u001b[39;49m\u001b[43merrors\u001b[49m\u001b[43m,\u001b[49m\n\u001b[0;32m   3992\u001b[0m \u001b[43m    \u001b[49m\u001b[43mcompression\u001b[49m\u001b[38;5;241;43m=\u001b[39;49m\u001b[43mcompression\u001b[49m\u001b[43m,\u001b[49m\n\u001b[0;32m   3993\u001b[0m \u001b[43m    \u001b[49m\u001b[43mquoting\u001b[49m\u001b[38;5;241;43m=\u001b[39;49m\u001b[43mquoting\u001b[49m\u001b[43m,\u001b[49m\n\u001b[0;32m   3994\u001b[0m \u001b[43m    \u001b[49m\u001b[43mcolumns\u001b[49m\u001b[38;5;241;43m=\u001b[39;49m\u001b[43mcolumns\u001b[49m\u001b[43m,\u001b[49m\n\u001b[0;32m   3995\u001b[0m \u001b[43m    \u001b[49m\u001b[43mindex_label\u001b[49m\u001b[38;5;241;43m=\u001b[39;49m\u001b[43mindex_label\u001b[49m\u001b[43m,\u001b[49m\n\u001b[0;32m   3996\u001b[0m \u001b[43m    \u001b[49m\u001b[43mmode\u001b[49m\u001b[38;5;241;43m=\u001b[39;49m\u001b[43mmode\u001b[49m\u001b[43m,\u001b[49m\n\u001b[0;32m   3997\u001b[0m \u001b[43m    \u001b[49m\u001b[43mchunksize\u001b[49m\u001b[38;5;241;43m=\u001b[39;49m\u001b[43mchunksize\u001b[49m\u001b[43m,\u001b[49m\n\u001b[0;32m   3998\u001b[0m \u001b[43m    \u001b[49m\u001b[43mquotechar\u001b[49m\u001b[38;5;241;43m=\u001b[39;49m\u001b[43mquotechar\u001b[49m\u001b[43m,\u001b[49m\n\u001b[0;32m   3999\u001b[0m \u001b[43m    \u001b[49m\u001b[43mdate_format\u001b[49m\u001b[38;5;241;43m=\u001b[39;49m\u001b[43mdate_format\u001b[49m\u001b[43m,\u001b[49m\n\u001b[0;32m   4000\u001b[0m \u001b[43m    \u001b[49m\u001b[43mdoublequote\u001b[49m\u001b[38;5;241;43m=\u001b[39;49m\u001b[43mdoublequote\u001b[49m\u001b[43m,\u001b[49m\n\u001b[0;32m   4001\u001b[0m \u001b[43m    \u001b[49m\u001b[43mescapechar\u001b[49m\u001b[38;5;241;43m=\u001b[39;49m\u001b[43mescapechar\u001b[49m\u001b[43m,\u001b[49m\n\u001b[0;32m   4002\u001b[0m \u001b[43m    \u001b[49m\u001b[43mstorage_options\u001b[49m\u001b[38;5;241;43m=\u001b[39;49m\u001b[43mstorage_options\u001b[49m\u001b[43m,\u001b[49m\n\u001b[0;32m   4003\u001b[0m \u001b[43m\u001b[49m\u001b[43m)\u001b[49m\n",
      "File \u001b[1;32mc:\\Projects\\graph\\stablecoin_erc20_graph\\.venv\\lib\\site-packages\\pandas\\io\\formats\\format.py:1014\u001b[0m, in \u001b[0;36mDataFrameRenderer.to_csv\u001b[1;34m(self, path_or_buf, encoding, sep, columns, index_label, mode, compression, quoting, quotechar, lineterminator, chunksize, date_format, doublequote, escapechar, errors, storage_options)\u001b[0m\n\u001b[0;32m    993\u001b[0m     created_buffer \u001b[38;5;241m=\u001b[39m \u001b[38;5;28;01mFalse\u001b[39;00m\n\u001b[0;32m    995\u001b[0m csv_formatter \u001b[38;5;241m=\u001b[39m CSVFormatter(\n\u001b[0;32m    996\u001b[0m     path_or_buf\u001b[38;5;241m=\u001b[39mpath_or_buf,\n\u001b[0;32m    997\u001b[0m     lineterminator\u001b[38;5;241m=\u001b[39mlineterminator,\n\u001b[1;32m   (...)\u001b[0m\n\u001b[0;32m   1012\u001b[0m     formatter\u001b[38;5;241m=\u001b[39m\u001b[38;5;28mself\u001b[39m\u001b[38;5;241m.\u001b[39mfmt,\n\u001b[0;32m   1013\u001b[0m )\n\u001b[1;32m-> 1014\u001b[0m \u001b[43mcsv_formatter\u001b[49m\u001b[38;5;241;43m.\u001b[39;49m\u001b[43msave\u001b[49m\u001b[43m(\u001b[49m\u001b[43m)\u001b[49m\n\u001b[0;32m   1016\u001b[0m \u001b[38;5;28;01mif\u001b[39;00m created_buffer:\n\u001b[0;32m   1017\u001b[0m     \u001b[38;5;28;01massert\u001b[39;00m \u001b[38;5;28misinstance\u001b[39m(path_or_buf, StringIO)\n",
      "File \u001b[1;32mc:\\Projects\\graph\\stablecoin_erc20_graph\\.venv\\lib\\site-packages\\pandas\\io\\formats\\csvs.py:251\u001b[0m, in \u001b[0;36mCSVFormatter.save\u001b[1;34m(self)\u001b[0m\n\u001b[0;32m    247\u001b[0m \u001b[38;5;250m\u001b[39m\u001b[38;5;124;03m\"\"\"\u001b[39;00m\n\u001b[0;32m    248\u001b[0m \u001b[38;5;124;03mCreate the writer & save.\u001b[39;00m\n\u001b[0;32m    249\u001b[0m \u001b[38;5;124;03m\"\"\"\u001b[39;00m\n\u001b[0;32m    250\u001b[0m \u001b[38;5;66;03m# apply compression and byte/text conversion\u001b[39;00m\n\u001b[1;32m--> 251\u001b[0m \u001b[38;5;28;01mwith\u001b[39;00m get_handle(\n\u001b[0;32m    252\u001b[0m     \u001b[38;5;28mself\u001b[39m\u001b[38;5;241m.\u001b[39mfilepath_or_buffer,\n\u001b[0;32m    253\u001b[0m     \u001b[38;5;28mself\u001b[39m\u001b[38;5;241m.\u001b[39mmode,\n\u001b[0;32m    254\u001b[0m     encoding\u001b[38;5;241m=\u001b[39m\u001b[38;5;28mself\u001b[39m\u001b[38;5;241m.\u001b[39mencoding,\n\u001b[0;32m    255\u001b[0m     errors\u001b[38;5;241m=\u001b[39m\u001b[38;5;28mself\u001b[39m\u001b[38;5;241m.\u001b[39merrors,\n\u001b[0;32m    256\u001b[0m     compression\u001b[38;5;241m=\u001b[39m\u001b[38;5;28mself\u001b[39m\u001b[38;5;241m.\u001b[39mcompression,\n\u001b[0;32m    257\u001b[0m     storage_options\u001b[38;5;241m=\u001b[39m\u001b[38;5;28mself\u001b[39m\u001b[38;5;241m.\u001b[39mstorage_options,\n\u001b[0;32m    258\u001b[0m ) \u001b[38;5;28;01mas\u001b[39;00m handles:\n\u001b[0;32m    259\u001b[0m     \u001b[38;5;66;03m# Note: self.encoding is irrelevant here\u001b[39;00m\n\u001b[0;32m    260\u001b[0m     \u001b[38;5;28mself\u001b[39m\u001b[38;5;241m.\u001b[39mwriter \u001b[38;5;241m=\u001b[39m csvlib\u001b[38;5;241m.\u001b[39mwriter(\n\u001b[0;32m    261\u001b[0m         handles\u001b[38;5;241m.\u001b[39mhandle,\n\u001b[0;32m    262\u001b[0m         lineterminator\u001b[38;5;241m=\u001b[39m\u001b[38;5;28mself\u001b[39m\u001b[38;5;241m.\u001b[39mlineterminator,\n\u001b[1;32m   (...)\u001b[0m\n\u001b[0;32m    267\u001b[0m         quotechar\u001b[38;5;241m=\u001b[39m\u001b[38;5;28mself\u001b[39m\u001b[38;5;241m.\u001b[39mquotechar,\n\u001b[0;32m    268\u001b[0m     )\n\u001b[0;32m    270\u001b[0m     \u001b[38;5;28mself\u001b[39m\u001b[38;5;241m.\u001b[39m_save()\n",
      "File \u001b[1;32mc:\\Projects\\graph\\stablecoin_erc20_graph\\.venv\\lib\\site-packages\\pandas\\io\\common.py:157\u001b[0m, in \u001b[0;36mIOHandles.__exit__\u001b[1;34m(self, exc_type, exc_value, traceback)\u001b[0m\n\u001b[0;32m    151\u001b[0m \u001b[38;5;28;01mdef\u001b[39;00m\u001b[38;5;250m \u001b[39m\u001b[38;5;21m__exit__\u001b[39m(\n\u001b[0;32m    152\u001b[0m     \u001b[38;5;28mself\u001b[39m,\n\u001b[0;32m    153\u001b[0m     exc_type: \u001b[38;5;28mtype\u001b[39m[\u001b[38;5;167;01mBaseException\u001b[39;00m] \u001b[38;5;241m|\u001b[39m \u001b[38;5;28;01mNone\u001b[39;00m,\n\u001b[0;32m    154\u001b[0m     exc_value: \u001b[38;5;167;01mBaseException\u001b[39;00m \u001b[38;5;241m|\u001b[39m \u001b[38;5;28;01mNone\u001b[39;00m,\n\u001b[0;32m    155\u001b[0m     traceback: TracebackType \u001b[38;5;241m|\u001b[39m \u001b[38;5;28;01mNone\u001b[39;00m,\n\u001b[0;32m    156\u001b[0m ) \u001b[38;5;241m-\u001b[39m\u001b[38;5;241m>\u001b[39m \u001b[38;5;28;01mNone\u001b[39;00m:\n\u001b[1;32m--> 157\u001b[0m     \u001b[38;5;28;43mself\u001b[39;49m\u001b[38;5;241;43m.\u001b[39;49m\u001b[43mclose\u001b[49m\u001b[43m(\u001b[49m\u001b[43m)\u001b[49m\n",
      "File \u001b[1;32mc:\\Projects\\graph\\stablecoin_erc20_graph\\.venv\\lib\\site-packages\\pandas\\io\\common.py:144\u001b[0m, in \u001b[0;36mIOHandles.close\u001b[1;34m(self)\u001b[0m\n\u001b[0;32m    142\u001b[0m     \u001b[38;5;28mself\u001b[39m\u001b[38;5;241m.\u001b[39mcreated_handles\u001b[38;5;241m.\u001b[39mremove(\u001b[38;5;28mself\u001b[39m\u001b[38;5;241m.\u001b[39mhandle)\n\u001b[0;32m    143\u001b[0m \u001b[38;5;28;01mfor\u001b[39;00m handle \u001b[38;5;129;01min\u001b[39;00m \u001b[38;5;28mself\u001b[39m\u001b[38;5;241m.\u001b[39mcreated_handles:\n\u001b[1;32m--> 144\u001b[0m     \u001b[43mhandle\u001b[49m\u001b[38;5;241;43m.\u001b[39;49m\u001b[43mclose\u001b[49m\u001b[43m(\u001b[49m\u001b[43m)\u001b[49m\n\u001b[0;32m    145\u001b[0m \u001b[38;5;28mself\u001b[39m\u001b[38;5;241m.\u001b[39mcreated_handles \u001b[38;5;241m=\u001b[39m []\n\u001b[0;32m    146\u001b[0m \u001b[38;5;28mself\u001b[39m\u001b[38;5;241m.\u001b[39mis_wrapped \u001b[38;5;241m=\u001b[39m \u001b[38;5;28;01mFalse\u001b[39;00m\n",
      "\u001b[1;31mOSError\u001b[0m: [Errno 28] No space left on device"
     ]
    }
   ],
   "source": [
    "# Map contract address to token names\n",
    "contract_to_token = {\n",
    "    '0xdac17f958d2ee523a2206206994597c13d831ec7': 'USDT',\n",
    "    '0xa0b86991c6218b36c1d19d4a2e9eb0ce3606eb48': 'USDC',\n",
    "    '0x6b175474e89094c44da98b954eedeac495271d0f': 'DAI',\n",
    "    '0xa47c8bf37f92abed4a126bda807a7b7498661acd': 'UST',\n",
    "    '0x8e870d67f660d95d5be530380d0ec0bd388289e1': 'PAX',\n",
    "    '0xd2877702675e6ceb975b4a1dff9fb7baf4c91ea9': 'WLUNA'\n",
    "}\n",
    "\n",
    "\n",
    "df['stablecoin'] = df['contract_address'].map(contract_to_token)\n",
    "df = df[~df['stablecoin'].isnull()]\n",
    "\n",
    "print(f\"Contract Addresses: {df['contract_address'].unique()}\")\n",
    "print(f\"\\nStablecoin: {df['stablecoin'].unique()}\")\n",
    "\n",
    "\n",
    "df.to_csv(f'{output_path}/{output_filename}')\n"
   ]
  },
  {
   "cell_type": "code",
   "execution_count": 15,
   "id": "6535b8b6",
   "metadata": {},
   "outputs": [
    {
     "name": "stdout",
     "output_type": "stream",
     "text": [
      "<class 'pandas.core.frame.DataFrame'>\n",
      "Index: 5279149 entries, 0 to 5280130\n",
      "Data columns (total 10 columns):\n",
      " #   Column             Dtype         \n",
      "---  ------             -----         \n",
      " 0   block_number       int64         \n",
      " 1   transaction_index  int64         \n",
      " 2   from_address       object        \n",
      " 3   to_address         object        \n",
      " 4   timestamp          int64         \n",
      " 5   contract_address   object        \n",
      " 6   value              float64       \n",
      " 7   datetime           datetime64[ns]\n",
      " 8   date               object        \n",
      " 9   stablecoin         object        \n",
      "dtypes: datetime64[ns](1), float64(1), int64(3), object(5)\n",
      "memory usage: 443.0+ MB\n"
     ]
    },
    {
     "name": "stdout",
     "output_type": "stream",
     "text": [
      "The history saving thread hit an unexpected error (OperationalError('database or disk is full')).History will not be written to the database.\n"
     ]
    },
    {
     "data": {
      "application/vnd.microsoft.datawrangler.viewer.v0+json": {
       "columns": [
        {
         "name": "index",
         "rawType": "int64",
         "type": "integer"
        },
        {
         "name": "block_number",
         "rawType": "int64",
         "type": "integer"
        },
        {
         "name": "transaction_index",
         "rawType": "int64",
         "type": "integer"
        },
        {
         "name": "from_address",
         "rawType": "object",
         "type": "string"
        },
        {
         "name": "to_address",
         "rawType": "object",
         "type": "string"
        },
        {
         "name": "timestamp",
         "rawType": "int64",
         "type": "integer"
        },
        {
         "name": "contract_address",
         "rawType": "object",
         "type": "string"
        },
        {
         "name": "value",
         "rawType": "float64",
         "type": "float"
        },
        {
         "name": "datetime",
         "rawType": "datetime64[ns]",
         "type": "datetime"
        },
        {
         "name": "date",
         "rawType": "object",
         "type": "unknown"
        },
        {
         "name": "stablecoin",
         "rawType": "object",
         "type": "string"
        }
       ],
       "ref": "179d315b-436b-444a-adec-d0298283477f",
       "rows": [
        [
         "0",
         "14669683",
         "7",
         "0xd30b438df65f4f788563b2b3611bd6059bff4ad9",
         "0xda816e2122a8a39b0926bfa84edd3d42477e9efd",
         "1651105815",
         "0xdac17f958d2ee523a2206206994597c13d831ec7",
         "18.67",
         "2022-04-28 00:30:15",
         "2022-04-28",
         "USDT"
        ],
        [
         "1",
         "14669683",
         "45",
         "0x4941834ed1428089ee76252f6f9d767e800499b0",
         "0x28c6c06298d514db089934071355e5743bf21d60",
         "1651105815",
         "0xdac17f958d2ee523a2206206994597c13d831ec7",
         "10000.0",
         "2022-04-28 00:30:15",
         "2022-04-28",
         "USDT"
        ],
        [
         "2",
         "14669683",
         "46",
         "0x2c1f9a20711e14f8484a41123e20d1b06858ebea",
         "0x28c6c06298d514db089934071355e5743bf21d60",
         "1651105815",
         "0xdac17f958d2ee523a2206206994597c13d831ec7",
         "9942.313005",
         "2022-04-28 00:30:15",
         "2022-04-28",
         "USDT"
        ],
        [
         "3",
         "14669683",
         "47",
         "0x7784c4f53aa5f03bd6d3ca670c9d9c887cc38cb0",
         "0x3cd751e6b0078be393132286c442345e5dc49699",
         "1651105815",
         "0xdac17f958d2ee523a2206206994597c13d831ec7",
         "234.364097",
         "2022-04-28 00:30:15",
         "2022-04-28",
         "USDT"
        ],
        [
         "4",
         "14669683",
         "48",
         "0x66589b8278470d58d4112f3d065de0f75734312e",
         "0x28c6c06298d514db089934071355e5743bf21d60",
         "1651105815",
         "0xdac17f958d2ee523a2206206994597c13d831ec7",
         "9800.0",
         "2022-04-28 00:30:15",
         "2022-04-28",
         "USDT"
        ]
       ],
       "shape": {
        "columns": 10,
        "rows": 5
       }
      },
      "text/html": [
       "<div>\n",
       "<style scoped>\n",
       "    .dataframe tbody tr th:only-of-type {\n",
       "        vertical-align: middle;\n",
       "    }\n",
       "\n",
       "    .dataframe tbody tr th {\n",
       "        vertical-align: top;\n",
       "    }\n",
       "\n",
       "    .dataframe thead th {\n",
       "        text-align: right;\n",
       "    }\n",
       "</style>\n",
       "<table border=\"1\" class=\"dataframe\">\n",
       "  <thead>\n",
       "    <tr style=\"text-align: right;\">\n",
       "      <th></th>\n",
       "      <th>block_number</th>\n",
       "      <th>transaction_index</th>\n",
       "      <th>from_address</th>\n",
       "      <th>to_address</th>\n",
       "      <th>timestamp</th>\n",
       "      <th>contract_address</th>\n",
       "      <th>value</th>\n",
       "      <th>datetime</th>\n",
       "      <th>date</th>\n",
       "      <th>stablecoin</th>\n",
       "    </tr>\n",
       "  </thead>\n",
       "  <tbody>\n",
       "    <tr>\n",
       "      <th>0</th>\n",
       "      <td>14669683</td>\n",
       "      <td>7</td>\n",
       "      <td>0xd30b438df65f4f788563b2b3611bd6059bff4ad9</td>\n",
       "      <td>0xda816e2122a8a39b0926bfa84edd3d42477e9efd</td>\n",
       "      <td>1651105815</td>\n",
       "      <td>0xdac17f958d2ee523a2206206994597c13d831ec7</td>\n",
       "      <td>18.670000</td>\n",
       "      <td>2022-04-28 00:30:15</td>\n",
       "      <td>2022-04-28</td>\n",
       "      <td>USDT</td>\n",
       "    </tr>\n",
       "    <tr>\n",
       "      <th>1</th>\n",
       "      <td>14669683</td>\n",
       "      <td>45</td>\n",
       "      <td>0x4941834ed1428089ee76252f6f9d767e800499b0</td>\n",
       "      <td>0x28c6c06298d514db089934071355e5743bf21d60</td>\n",
       "      <td>1651105815</td>\n",
       "      <td>0xdac17f958d2ee523a2206206994597c13d831ec7</td>\n",
       "      <td>10000.000000</td>\n",
       "      <td>2022-04-28 00:30:15</td>\n",
       "      <td>2022-04-28</td>\n",
       "      <td>USDT</td>\n",
       "    </tr>\n",
       "    <tr>\n",
       "      <th>2</th>\n",
       "      <td>14669683</td>\n",
       "      <td>46</td>\n",
       "      <td>0x2c1f9a20711e14f8484a41123e20d1b06858ebea</td>\n",
       "      <td>0x28c6c06298d514db089934071355e5743bf21d60</td>\n",
       "      <td>1651105815</td>\n",
       "      <td>0xdac17f958d2ee523a2206206994597c13d831ec7</td>\n",
       "      <td>9942.313005</td>\n",
       "      <td>2022-04-28 00:30:15</td>\n",
       "      <td>2022-04-28</td>\n",
       "      <td>USDT</td>\n",
       "    </tr>\n",
       "    <tr>\n",
       "      <th>3</th>\n",
       "      <td>14669683</td>\n",
       "      <td>47</td>\n",
       "      <td>0x7784c4f53aa5f03bd6d3ca670c9d9c887cc38cb0</td>\n",
       "      <td>0x3cd751e6b0078be393132286c442345e5dc49699</td>\n",
       "      <td>1651105815</td>\n",
       "      <td>0xdac17f958d2ee523a2206206994597c13d831ec7</td>\n",
       "      <td>234.364097</td>\n",
       "      <td>2022-04-28 00:30:15</td>\n",
       "      <td>2022-04-28</td>\n",
       "      <td>USDT</td>\n",
       "    </tr>\n",
       "    <tr>\n",
       "      <th>4</th>\n",
       "      <td>14669683</td>\n",
       "      <td>48</td>\n",
       "      <td>0x66589b8278470d58d4112f3d065de0f75734312e</td>\n",
       "      <td>0x28c6c06298d514db089934071355e5743bf21d60</td>\n",
       "      <td>1651105815</td>\n",
       "      <td>0xdac17f958d2ee523a2206206994597c13d831ec7</td>\n",
       "      <td>9800.000000</td>\n",
       "      <td>2022-04-28 00:30:15</td>\n",
       "      <td>2022-04-28</td>\n",
       "      <td>USDT</td>\n",
       "    </tr>\n",
       "  </tbody>\n",
       "</table>\n",
       "</div>"
      ],
      "text/plain": [
       "   block_number  transaction_index  \\\n",
       "0      14669683                  7   \n",
       "1      14669683                 45   \n",
       "2      14669683                 46   \n",
       "3      14669683                 47   \n",
       "4      14669683                 48   \n",
       "\n",
       "                                 from_address  \\\n",
       "0  0xd30b438df65f4f788563b2b3611bd6059bff4ad9   \n",
       "1  0x4941834ed1428089ee76252f6f9d767e800499b0   \n",
       "2  0x2c1f9a20711e14f8484a41123e20d1b06858ebea   \n",
       "3  0x7784c4f53aa5f03bd6d3ca670c9d9c887cc38cb0   \n",
       "4  0x66589b8278470d58d4112f3d065de0f75734312e   \n",
       "\n",
       "                                   to_address   timestamp  \\\n",
       "0  0xda816e2122a8a39b0926bfa84edd3d42477e9efd  1651105815   \n",
       "1  0x28c6c06298d514db089934071355e5743bf21d60  1651105815   \n",
       "2  0x28c6c06298d514db089934071355e5743bf21d60  1651105815   \n",
       "3  0x3cd751e6b0078be393132286c442345e5dc49699  1651105815   \n",
       "4  0x28c6c06298d514db089934071355e5743bf21d60  1651105815   \n",
       "\n",
       "                             contract_address         value  \\\n",
       "0  0xdac17f958d2ee523a2206206994597c13d831ec7     18.670000   \n",
       "1  0xdac17f958d2ee523a2206206994597c13d831ec7  10000.000000   \n",
       "2  0xdac17f958d2ee523a2206206994597c13d831ec7   9942.313005   \n",
       "3  0xdac17f958d2ee523a2206206994597c13d831ec7    234.364097   \n",
       "4  0xdac17f958d2ee523a2206206994597c13d831ec7   9800.000000   \n",
       "\n",
       "             datetime        date stablecoin  \n",
       "0 2022-04-28 00:30:15  2022-04-28       USDT  \n",
       "1 2022-04-28 00:30:15  2022-04-28       USDT  \n",
       "2 2022-04-28 00:30:15  2022-04-28       USDT  \n",
       "3 2022-04-28 00:30:15  2022-04-28       USDT  \n",
       "4 2022-04-28 00:30:15  2022-04-28       USDT  "
      ]
     },
     "execution_count": 15,
     "metadata": {},
     "output_type": "execute_result"
    }
   ],
   "source": [
    "df.info()\n",
    "df.head()"
   ]
  }
 ],
 "metadata": {
  "kernelspec": {
   "display_name": ".venv",
   "language": "python",
   "name": "python3"
  },
  "language_info": {
   "codemirror_mode": {
    "name": "ipython",
    "version": 3
   },
   "file_extension": ".py",
   "mimetype": "text/x-python",
   "name": "python",
   "nbconvert_exporter": "python",
   "pygments_lexer": "ipython3",
   "version": "3.10.9"
  }
 },
 "nbformat": 4,
 "nbformat_minor": 5
}
